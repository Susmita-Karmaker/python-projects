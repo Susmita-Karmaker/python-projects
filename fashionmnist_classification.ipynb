{
  "nbformat": 4,
  "nbformat_minor": 0,
  "metadata": {
    "colab": {
      "name": "fashionmnist_classification.ipynb",
      "provenance": [],
      "authorship_tag": "ABX9TyOOeE2MVnIQ77h8mBBPkJuy",
      "include_colab_link": true
    },
    "kernelspec": {
      "name": "python3",
      "display_name": "Python 3"
    }
  },
  "cells": [
    {
      "cell_type": "markdown",
      "metadata": {
        "id": "view-in-github",
        "colab_type": "text"
      },
      "source": [
        "<a href=\"https://colab.research.google.com/github/Susmita-Karmaker/python-projects/blob/main/fashionmnist_classification.ipynb\" target=\"_parent\"><img src=\"https://colab.research.google.com/assets/colab-badge.svg\" alt=\"Open In Colab\"/></a>"
      ]
    },
    {
      "cell_type": "markdown",
      "metadata": {
        "id": "jb3LNNDDQOjg"
      },
      "source": [
        "## Importing libraries "
      ]
    },
    {
      "cell_type": "code",
      "metadata": {
        "id": "2trJKpDxvu6p"
      },
      "source": [
        "import tensorflow as tf\n",
        "from tensorflow import keras\n",
        "from tensorflow.keras import layers\n",
        "import numpy as np\n",
        "import matplotlib.pyplot as plt"
      ],
      "execution_count": null,
      "outputs": []
    },
    {
      "cell_type": "markdown",
      "metadata": {
        "id": "nA00sv3oQdHD"
      },
      "source": [
        "## Loading the training and testing datasets"
      ]
    },
    {
      "cell_type": "code",
      "metadata": {
        "id": "GJwLqUectyy1",
        "colab": {
          "base_uri": "https://localhost:8080/",
          "height": 34
        },
        "outputId": "e55b2ea8-cf0a-44ae-e6ec-40b75c93ad4b"
      },
      "source": [
        "(x_train , y_train),(x_test,y_test)= tf.keras.datasets.fashion_mnist.load_data()\n",
        "print(\"x_train shape:\",x_train.shape,\"y_train shape:\",y_train.shape)"
      ],
      "execution_count": null,
      "outputs": [
        {
          "output_type": "stream",
          "text": [
            "x_train shape: (60000, 28, 28) y_train shape: (60000,)\n"
          ],
          "name": "stdout"
        }
      ]
    },
    {
      "cell_type": "code",
      "metadata": {
        "id": "xzWzYufLwsjG",
        "colab": {
          "base_uri": "https://localhost:8080/",
          "height": 92
        },
        "outputId": "b1bfdc84-ea5b-41f3-9ec5-aee329065360"
      },
      "source": [
        "location = [3,45,67,89,44,668,9999,50989,47823,56710]\n",
        "for i in range(1,len(location)+1):\n",
        "  plt.subplot(1,10,i)\n",
        "  plt.imshow(x_train[location[i-1]].reshape(28,28))\n",
        "  plt.title(y_train[location[i-1]])"
      ],
      "execution_count": null,
      "outputs": [
        {
          "output_type": "display_data",
          "data": {
            "image/png": "[encoded data removed]",
            "text/plain": [
              "<Figure size 432x288 with 10 Axes>"
            ]
          },
          "metadata": {
            "tags": [],
            "needs_background": "light"
          }
        }
      ]
    },
    {
      "cell_type": "code",
      "metadata": {
        "id": "LwIzdSeD3nqb"
      },
      "source": [
        ""
      ],
      "execution_count": null,
      "outputs": []
    },
    {
      "cell_type": "code",
      "metadata": {
        "id": "JOp5B6ifzdqZ"
      },
      "source": [
        "temp =[]\n",
        "for i in x_train:\n",
        "  img = i.reshape(28,28)\n",
        "  temp.append(img)"
      ],
      "execution_count": null,
      "outputs": []
    },
    {
      "cell_type": "code",
      "metadata": {
        "id": "XfKRQtS3zwjf",
        "colab": {
          "base_uri": "https://localhost:8080/",
          "height": 34
        },
        "outputId": "953419b8-8c06-4731-c418-6fecb0966f79"
      },
      "source": [
        "temp = np.array(temp)\n",
        "temp.shape"
      ],
      "execution_count": null,
      "outputs": [
        {
          "output_type": "execute_result",
          "data": {
            "text/plain": [
              "(60000, 28, 28)"
            ]
          },
          "metadata": {
            "tags": []
          },
          "execution_count": 7
        }
      ]
    },
    {
      "cell_type": "code",
      "metadata": {
        "id": "LAEyNPWSz6LH"
      },
      "source": [
        "x_train =temp.reshape(-1,28,28,1)"
      ],
      "execution_count": null,
      "outputs": []
    },
    {
      "cell_type": "code",
      "metadata": {
        "id": "hXYcSZSi0Gnf",
        "colab": {
          "base_uri": "https://localhost:8080/",
          "height": 136
        },
        "outputId": "e6f2314c-31c6-477e-f71b-0f1264d79e92"
      },
      "source": [
        "from keras.utils import to_categorical\n",
        "y_train = to_categorical(y_train)\n",
        "print(y_train)"
      ],
      "execution_count": null,
      "outputs": [
        {
          "output_type": "stream",
          "text": [
            "[[0. 0. 0. ... 0. 0. 1.]\n",
            " [1. 0. 0. ... 0. 0. 0.]\n",
            " [1. 0. 0. ... 0. 0. 0.]\n",
            " ...\n",
            " [0. 0. 0. ... 0. 0. 0.]\n",
            " [1. 0. 0. ... 0. 0. 0.]\n",
            " [0. 0. 0. ... 0. 0. 0.]]\n"
          ],
          "name": "stdout"
        }
      ]
    },
    {
      "cell_type": "code",
      "metadata": {
        "id": "wkjZbRCz0b-2",
        "colab": {
          "base_uri": "https://localhost:8080/",
          "height": 34
        },
        "outputId": "2f180a67-046b-4f2d-ca93-ac58361f3a6b"
      },
      "source": [
        "y_train.shape"
      ],
      "execution_count": null,
      "outputs": [
        {
          "output_type": "execute_result",
          "data": {
            "text/plain": [
              "(60000, 10)"
            ]
          },
          "metadata": {
            "tags": []
          },
          "execution_count": 13
        }
      ]
    },
    {
      "cell_type": "code",
      "metadata": {
        "id": "8T9VSFq604Cu"
      },
      "source": [
        "import keras\n",
        "from keras.models import Sequential\n",
        "from keras.layers import Dense, Conv2D, MaxPooling2D, Flatten"
      ],
      "execution_count": null,
      "outputs": []
    },
    {
      "cell_type": "code",
      "metadata": {
        "id": "dK9uFsTf1AUG"
      },
      "source": [
        "model = Sequential()\n",
        "model.add(Conv2D(16, (3,3), activation='relu', input_shape=(28,28,1)))\n",
        "model.add(MaxPooling2D((2,2)))\n",
        "model.add(Conv2D(32, (3,3), activation = 'relu'))\n",
        "model.add(Flatten())\n",
        "model.add(Dense(25, activation = 'relu'))\n",
        "model.add(Dense(10, activation = 'softmax'))\n",
        "model.compile(loss='categorical_crossentropy', optimizer='adam', metrics=['accuracy'])"
      ],
      "execution_count": null,
      "outputs": []
    },
    {
      "cell_type": "code",
      "metadata": {
        "id": "y5zZxhQ81Mzd",
        "colab": {
          "base_uri": "https://localhost:8080/",
          "height": 357
        },
        "outputId": "af4913a0-4e79-486e-d6e4-c90c43073858"
      },
      "source": [
        "model.summary()"
      ],
      "execution_count": null,
      "outputs": [
        {
          "output_type": "stream",
          "text": [
            "Model: \"sequential_1\"\n",
            "_________________________________________________________________\n",
            "Layer (type)                 Output Shape              Param #   \n",
            "=================================================================\n",
            "conv2d_1 (Conv2D)            (None, 26, 26, 16)        160       \n",
            "_________________________________________________________________\n",
            "max_pooling2d_1 (MaxPooling2 (None, 13, 13, 16)        0         \n",
            "_________________________________________________________________\n",
            "conv2d_2 (Conv2D)            (None, 11, 11, 32)        4640      \n",
            "_________________________________________________________________\n",
            "flatten_1 (Flatten)          (None, 3872)              0         \n",
            "_________________________________________________________________\n",
            "dense_1 (Dense)              (None, 25)                96825     \n",
            "_________________________________________________________________\n",
            "dense_2 (Dense)              (None, 10)                260       \n",
            "=================================================================\n",
            "Total params: 101,885\n",
            "Trainable params: 101,885\n",
            "Non-trainable params: 0\n",
            "_________________________________________________________________\n"
          ],
          "name": "stdout"
        }
      ]
    },
    {
      "cell_type": "code",
      "metadata": {
        "id": "gi-Qqldb1ODt",
        "colab": {
          "base_uri": "https://localhost:8080/",
          "height": 462
        },
        "outputId": "62754ba8-382b-4680-ebab-8dfac2fa9332"
      },
      "source": [
        "history = model.fit(x_train,y_train, validation_split=0.1, epochs=12, batch_size=64)"
      ],
      "execution_count": null,
      "outputs": [
        {
          "output_type": "stream",
          "text": [
            "Train on 54000 samples, validate on 6000 samples\n",
            "Epoch 1/12\n",
            "54000/54000 [==============================] - 26s 477us/step - loss: 1.1411 - accuracy: 0.6558 - val_loss: 0.6678 - val_accuracy: 0.8057\n",
            "Epoch 2/12\n",
            "54000/54000 [==============================] - 25s 471us/step - loss: 0.4835 - accuracy: 0.8477 - val_loss: 0.3940 - val_accuracy: 0.8658\n",
            "Epoch 3/12\n",
            "54000/54000 [==============================] - 26s 477us/step - loss: 0.3452 - accuracy: 0.8782 - val_loss: 0.3564 - val_accuracy: 0.8773\n",
            "Epoch 4/12\n",
            "54000/54000 [==============================] - 26s 475us/step - loss: 0.2923 - accuracy: 0.8950 - val_loss: 0.3480 - val_accuracy: 0.8768\n",
            "Epoch 5/12\n",
            "54000/54000 [==============================] - 26s 477us/step - loss: 0.2602 - accuracy: 0.9052 - val_loss: 0.3141 - val_accuracy: 0.8903\n",
            "Epoch 6/12\n",
            "54000/54000 [==============================] - 26s 483us/step - loss: 0.2419 - accuracy: 0.9122 - val_loss: 0.3200 - val_accuracy: 0.8930\n",
            "Epoch 7/12\n",
            "54000/54000 [==============================] - 26s 483us/step - loss: 0.2261 - accuracy: 0.9167 - val_loss: 0.3391 - val_accuracy: 0.8865\n",
            "Epoch 8/12\n",
            "54000/54000 [==============================] - 26s 480us/step - loss: 0.2104 - accuracy: 0.9238 - val_loss: 0.3236 - val_accuracy: 0.8968\n",
            "Epoch 9/12\n",
            "54000/54000 [==============================] - 26s 479us/step - loss: 0.1994 - accuracy: 0.9272 - val_loss: 0.3227 - val_accuracy: 0.8958\n",
            "Epoch 10/12\n",
            "54000/54000 [==============================] - 26s 483us/step - loss: 0.1830 - accuracy: 0.9326 - val_loss: 0.3309 - val_accuracy: 0.8980\n",
            "Epoch 11/12\n",
            "54000/54000 [==============================] - 26s 482us/step - loss: 0.1742 - accuracy: 0.9358 - val_loss: 0.3434 - val_accuracy: 0.8962\n",
            "Epoch 12/12\n",
            "54000/54000 [==============================] - 26s 484us/step - loss: 0.1651 - accuracy: 0.9391 - val_loss: 0.3714 - val_accuracy: 0.8958\n"
          ],
          "name": "stdout"
        }
      ]
    },
    {
      "cell_type": "code",
      "metadata": {
        "id": "O1coa60o1l51"
      },
      "source": [
        ""
      ],
      "execution_count": null,
      "outputs": []
    },
    {
      "cell_type": "code",
      "metadata": {
        "id": "Ej0zSOSBAGqy"
      },
      "source": [
        ""
      ],
      "execution_count": null,
      "outputs": []
    }
  ]
}